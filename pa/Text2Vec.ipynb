{
 "cells": [
  {
   "cell_type": "markdown",
   "id": "901d5fcc",
   "metadata": {},
   "source": [
    "### Text2vec"
   ]
  },
  {
   "cell_type": "code",
   "execution_count": 1,
   "id": "62f45a1d",
   "metadata": {},
   "outputs": [],
   "source": [
    "import pickle\n",
    "from tqdm.notebook import tqdm"
   ]
  },
  {
   "cell_type": "code",
   "execution_count": 10,
   "id": "bb846e13",
   "metadata": {},
   "outputs": [],
   "source": [
    "with open('./dumped/wiki/wiki_full_dict.pkl', 'rb') as f:\n",
    "    emb_dict = pickle.load(f)"
   ]
  },
  {
   "cell_type": "code",
   "execution_count": 12,
   "id": "2af28d84",
   "metadata": {},
   "outputs": [],
   "source": [
    "with open('./dumped/wiki/clean_corp_wiki_pa.txt', 'r') as f:\n",
    "    corp = f.read()"
   ]
  },
  {
   "cell_type": "code",
   "execution_count": 13,
   "id": "b5166b2e",
   "metadata": {},
   "outputs": [],
   "source": [
    "texts = corp.split('\\n')"
   ]
  },
  {
   "cell_type": "code",
   "execution_count": 14,
   "id": "5f0556a0",
   "metadata": {},
   "outputs": [
    {
     "data": {
      "application/json": {
       "ascii": false,
       "bar_format": null,
       "colour": null,
       "elapsed": 0.020903348922729492,
       "initial": 0,
       "n": 0,
       "ncols": null,
       "nrows": 29,
       "postfix": null,
       "prefix": "",
       "rate": null,
       "total": 36843,
       "unit": "it",
       "unit_divisor": 1000,
       "unit_scale": false
      },
      "application/vnd.jupyter.widget-view+json": {
       "model_id": "b05937a1e5a84cd781dc4e4972a9d492",
       "version_major": 2,
       "version_minor": 0
      },
      "text/plain": [
       "  0%|          | 0/36843 [00:00<?, ?it/s]"
      ]
     },
     "metadata": {},
     "output_type": "display_data"
    }
   ],
   "source": [
    "emb_texts = []\n",
    "\n",
    "for text in tqdm(texts):\n",
    "\n",
    "    str_text = ' '.join(text.split(','))\n",
    "    \n",
    "    emb_list = []\n",
    "    \n",
    "    for word in str_text.split():\n",
    "        try:\n",
    "            emb_list.append(emb_dict[word])\n",
    "        except KeyError:\n",
    "            pass\n",
    "        \n",
    "    emb_texts.append(emb_list)"
   ]
  },
  {
   "cell_type": "code",
   "execution_count": 16,
   "id": "09a14790",
   "metadata": {},
   "outputs": [],
   "source": [
    "with open('./dumped/wiki/embedded_texts_wiki.pkl', 'wb') as f:\n",
    "    pickle.dump(emb_texts, f)"
   ]
  }
 ],
 "metadata": {
  "kernelspec": {
   "display_name": "Python 3 (ipykernel)",
   "language": "python",
   "name": "python3"
  },
  "language_info": {
   "codemirror_mode": {
    "name": "ipython",
    "version": 3
   },
   "file_extension": ".py",
   "mimetype": "text/x-python",
   "name": "python",
   "nbconvert_exporter": "python",
   "pygments_lexer": "ipython3",
   "version": "3.10.4"
  }
 },
 "nbformat": 4,
 "nbformat_minor": 5
}
