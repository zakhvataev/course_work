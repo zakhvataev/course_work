{
 "cells": [
  {
   "cell_type": "code",
   "execution_count": 3,
   "id": "4e5cbfbb",
   "metadata": {},
   "outputs": [],
   "source": [
    "import requests\n",
    "from bs4 import BeautifulSoup\n",
    "\n",
    "from tqdm.notebook import tqdm\n",
    "from IPython.display import clear_output"
   ]
  },
  {
   "cell_type": "code",
   "execution_count": 4,
   "id": "39978bb8",
   "metadata": {},
   "outputs": [],
   "source": [
    "class LiteratureParser():\n",
    "    \n",
    "    def __init__(self):\n",
    "        self.start_url = 'https://www.punjabi-kavita.com/'\n",
    "        self.links = [self.start_url]\n",
    "        self.all_links = self.links\n",
    "        self.pairs = set()\n",
    "        \n",
    "    def get_html_page(self, url):\n",
    "        try:\n",
    "            response = requests.get(url)\n",
    "            return response.text if response.ok else None\n",
    "        except:\n",
    "            return None\n",
    "    \n",
    "    def cut_link(self, s):\n",
    "        ind = s.rfind('#')\n",
    "\n",
    "        return s if ind == -1 else s[:ind]\n",
    "\n",
    "    def find_all_links(self, soup, start_page=False):\n",
    "        sections = soup.find_all('div', {'class': 'section'})\n",
    "        sections = sections[:-1] if start_page else sections\n",
    "        links = []\n",
    "        for section in sections:\n",
    "            tags_li = section.find_all('li')\n",
    "            for tag_li in tags_li:\n",
    "                try:\n",
    "                    link = tag_li.find('a')['href']\n",
    "                    link = self.cut_link(link)\n",
    "                    full_link = self.start_url + link\n",
    "                    \n",
    "                    if full_link.find('.php') != -1 and links.count(full_link) == 0 and self.links.count(full_link) == 0:\n",
    "                        if not full_link in self.all_links:\n",
    "                            links.append(full_link)\n",
    "                            self.all_links.append(full_link)\n",
    "                    else:\n",
    "                        pass\n",
    "                except:\n",
    "                    continue\n",
    "        return links\n",
    "    \n",
    "    def get_texts(self, soup):\n",
    "        titles = [tag.text for tag in soup.find_all('h3')]\n",
    "        texts = [tag.text for tag in soup.find_all('p')]\n",
    "        pairs = list(map(lambda x: '<<<>>>'.join(x), list(zip(titles, texts))))\n",
    "        return pairs\n",
    "    \n",
    "    def save(self):\n",
    "        with open('pa_literature2.txt', 'w') as f:\n",
    "            for pair in self.pairs:\n",
    "                f.write(pair)\n",
    "                f.write('^^^^^')\n",
    "        \n",
    "    def parse_links(self, start_page=True):\n",
    "\n",
    "        texts_counter = 0\n",
    "        \n",
    "        while True:\n",
    "        \n",
    "            cur_url = self.links[-1]\n",
    "            self.links = self.links[:-1]\n",
    "            html = self.get_html_page(cur_url)\n",
    "\n",
    "            if html == -1: break    \n",
    "            if not html: continue\n",
    "                \n",
    "            soup = BeautifulSoup(html)\n",
    "            new_links = self.find_all_links(soup, start_page=start_page)\n",
    "            \n",
    "            self.links += new_links\n",
    "            self.pairs = self.pairs.union(self.get_texts(soup))\n",
    "            texts_counter += len(self.pairs)\n",
    "            \n",
    "            clear_output(wait=True)\n",
    "            print(cur_url)\n",
    "            print(len(new_links), len(self.links), texts_counter)\n",
    "            \n",
    "            if texts_counter >= 100:\n",
    "                self.save()\n",
    "                texts_counter = 0\n",
    "            \n",
    "            start_page=False        \n",
    "        \n",
    "            if not self.links: break\n",
    "        self.save()"
   ]
  },
  {
   "cell_type": "code",
   "execution_count": 5,
   "id": "de38d57d",
   "metadata": {},
   "outputs": [
    {
     "name": "stdout",
     "output_type": "stream",
     "text": [
      "https://www.punjabi-kavita.com/PoemsForChildren.php\n",
      "0 0 28884\n"
     ]
    }
   ],
   "source": [
    "lit_parser = LiteratureParser()\n",
    "lit_parser.parse_links()"
   ]
  },
  {
   "cell_type": "code",
   "execution_count": null,
   "id": "6fadf7d3",
   "metadata": {},
   "outputs": [],
   "source": []
  }
 ],
 "metadata": {
  "kernelspec": {
   "display_name": "Python 3 (ipykernel)",
   "language": "python",
   "name": "python3"
  },
  "language_info": {
   "codemirror_mode": {
    "name": "ipython",
    "version": 3
   },
   "file_extension": ".py",
   "mimetype": "text/x-python",
   "name": "python",
   "nbconvert_exporter": "python",
   "pygments_lexer": "ipython3",
   "version": "3.10.4"
  }
 },
 "nbformat": 4,
 "nbformat_minor": 5
}
