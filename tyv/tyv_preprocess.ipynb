{
 "cells": [
  {
   "cell_type": "code",
   "execution_count": 1,
   "id": "1252a974",
   "metadata": {},
   "outputs": [],
   "source": [
    "import re\n",
    "from tqdm.notebook import tqdm"
   ]
  },
  {
   "cell_type": "code",
   "execution_count": 2,
   "id": "82400180",
   "metadata": {},
   "outputs": [],
   "source": [
    "with open('./clean_texts.txt', 'r') as f:\n",
    "    dirty_corp = f.read()\n",
    "    \n",
    "dirty_corp = dirty_corp.split('\\n')[:-1]"
   ]
  },
  {
   "cell_type": "markdown",
   "id": "4b8de28e",
   "metadata": {},
   "source": [
    "### Some useful links on articles\n",
    "$\\bullet \\href{https://upload.wikimedia.org/wikipedia/commons/e/e9/Ном_%22Тывалап_чугаалажыылыңар%22..pdf}{Поговорим\\; по\\; Тувински}$"
   ]
  },
  {
   "cell_type": "code",
   "execution_count": 3,
   "id": "96abcd8e",
   "metadata": {},
   "outputs": [],
   "source": [
    "def end_cut(token, ends_list):\n",
    "    \n",
    "    for end in ends_list:\n",
    "        try:\n",
    "            token_end = token[-len(end):]\n",
    "            if token_end == end:\n",
    "                token = token[:-len(end)]\n",
    "                return token, True\n",
    "            \n",
    "        except ValueError as e:\n",
    "            pass\n",
    "        \n",
    "    return token, False"
   ]
  },
  {
   "cell_type": "code",
   "execution_count": 4,
   "id": "cef6eafb",
   "metadata": {},
   "outputs": [],
   "source": [
    "def stemmer(token):\n",
    "        \n",
    "    ### Существительные / Nouns\n",
    "    \n",
    "    roditelniy = ['тың', 'туң', 'ның', 'нуң', 'дың', 'дуң', 'тиң', 'ниң']\n",
    "    vinitelniy = ['нү', 'ни']\n",
    "    datelniy = ['ка', 'ке', 'га', 'ге', 'ба', 'бе']\n",
    "    initial = ['тан', 'тен', 'дан', 'ден', 'нан', 'нен']\n",
    "    orudniy = ['биле', 'ла', 'п']\n",
    "    napravitelniy = ['дыва', 'диве', 'че', 'же', 'дува', 'дүве', 'тува', 'түве']\n",
    "    mn_chisla = ['лар', 'лер', 'нар', 'нер', 'дар', 'дер', 'тар', 'тер']\n",
    "    \n",
    "    all_noun_end = roditelniy + vinitelniy + datelniy +\\\n",
    "                   initial + orudniy + napravitelniy + mn_chisla\n",
    "\n",
    "    token, exit = end_cut(token, all_noun_end)\n",
    "    if exit: return token\n",
    "    \n",
    "    ### Глаголы / Verbs\n",
    "    proshedshee = ['кан', 'кен', 'ган', 'ген', 'ан', 'эн', 'маан', 'мээн',\n",
    "                   'паан', 'пээн', 'баан', 'бээн', 'ваан', 'вээн', 'мен', 'cен', 'бис',\n",
    "                   'силер', 'нар', 'нер']\n",
    "    povelit = ['айн', 'ейн', 'ыйн', 'ийн', 'уйн', 'үйн',\n",
    "               'көр', 'чору',\n",
    "               'сын', 'син', 'сун', 'сүн', 'зын', 'зин', 'зун', 'зүн',\n",
    "               'алы', 'эли', 'ылы', 'или', 'улу', 'үлү', 'аалы',\n",
    "               'ээли', 'ыылы', 'иили', 'уулу', 'үүлү',\n",
    "               'ңар', 'ңер', 'ыңар', 'иңер', 'уңар', 'үңер',\n",
    "               'нар', 'нер']\n",
    "    \n",
    "    glagol_1_ed = ['сымза', 'сумза', 'симзе', 'сүмзе',\n",
    "                   'зымза', 'зумза', 'зимзе', 'зүмзе']\n",
    "    glagol_2_ed = ['сыңза', 'суңза', 'сиёзе', 'сүңзе',\n",
    "                   'зыңза', 'зуңза', 'зиёзе', 'зүңзе']\n",
    "    glagol_3_ed = ['са', 'се',\n",
    "                   'за', 'зе']\n",
    "    glagol_1_mn = ['сывысса', 'сувусса', 'сивиссе', 'сүвүссе',\n",
    "                   'зывысса', 'зувусса', 'зивиссе', 'зүвүссе']\n",
    "    glagol_2_mn = ['сыңарза', 'суңарза', 'сиңерзе', 'сүңерзе',\n",
    "                   'зыңарза', 'зуңарза', 'зиңерзе', 'зүңерзе']\n",
    "    glagol_3_mn = ['са', 'се',\n",
    "                   'за', 'зе']\n",
    "    \n",
    "    all_verbs_end = proshedshee + povelit +\\\n",
    "                    glagol_1_ed + glagol_1_mn +\\\n",
    "                    glagol_2_ed + glagol_2_mn +\\\n",
    "                    glagol_3_ed + glagol_3_mn\n",
    "    \n",
    "    token, exit = end_cut(token,all_verbs_end)\n",
    "    if exit: return token\n",
    "        \n",
    "    return token"
   ]
  },
  {
   "cell_type": "code",
   "execution_count": 5,
   "id": "e0ffb913",
   "metadata": {},
   "outputs": [],
   "source": [
    "def stem_text(text):\n",
    "    res_text = ''\n",
    "    for token in text.split(' '):\n",
    "        stem_token = stemmer(token)\n",
    "        res_text += stem_token\n",
    "        res_text += ' '\n",
    "        \n",
    "    res_text = res_text[:-1]\n",
    "    \n",
    "    return res_text"
   ]
  },
  {
   "cell_type": "code",
   "execution_count": 6,
   "id": "33f2fee7",
   "metadata": {},
   "outputs": [
    {
     "data": {
      "application/json": {
       "ascii": false,
       "bar_format": null,
       "colour": null,
       "elapsed": 0.026067018508911133,
       "initial": 0,
       "n": 0,
       "ncols": null,
       "nrows": 30,
       "postfix": null,
       "prefix": "",
       "rate": null,
       "total": 5336,
       "unit": "it",
       "unit_divisor": 1000,
       "unit_scale": false
      },
      "application/vnd.jupyter.widget-view+json": {
       "model_id": "5349a671adbe49e1bc6a730dd87e8d5f",
       "version_major": 2,
       "version_minor": 0
      },
      "text/plain": [
       "  0%|          | 0/5336 [00:00<?, ?it/s]"
      ]
     },
     "metadata": {},
     "output_type": "display_data"
    }
   ],
   "source": [
    "clean_corp = []\n",
    "\n",
    "for raw_str in tqdm(dirty_corp):\n",
    "    title, text = raw_str.split(',')\n",
    "    \n",
    "    clean_title = stem_text(title)\n",
    "    clean_text = stem_text(text)\n",
    "    \n",
    "    clean_corp.append([clean_title, clean_text])"
   ]
  },
  {
   "cell_type": "markdown",
   "id": "c62db6f3",
   "metadata": {},
   "source": [
    "### To find stopwords (only russian - tuvan translator)\n",
    "$\\bullet \\href{https://upload.wikimedia.org/wikipedia/commons/e/e9/Ном_%22Тывалап_чугаалажыылыңар%22..pdf}{Мини-словарь\\; на\\; стр. 99}$\n",
    "\n",
    "\n",
    "$\\bullet \\href{https://tyvan.ru/}{Русско-тувинский\\; переводчик}$"
   ]
  },
  {
   "cell_type": "code",
   "execution_count": 9,
   "id": "6def2644",
   "metadata": {},
   "outputs": [],
   "source": [
    "def remove_stopwords(text):\n",
    "    stopwords_list = ['чүү', 'турган', 'мындыг', 'силер', 'ооң', 'ол', 'кайда', 'каяа', 'олар',\n",
    "                      'мээң', 'бо', 'аңаа', 'кым', 'мында', 'маңаа', 'эвес', 'база', 'катап', \n",
    "                      'ынчаар', 'ынчалдыр', 'мынчаар', 'мынчалдыр', 'болгаш', 'биле', 'чанында',\n",
    "                      'чоогунда', 'кыйыында', 'чанынга', 'чоогунга', 'кыйыынга', 'дан', 'тан',\n",
    "                      'тен', 'шыдаар', 'азы', 'ийикпе', 'чок', 'бар', 'чүгле', 'куду', 'өрү', \n",
    "                      'талаже', 'солагай', 'бир']\n",
    "    res_text = ''\n",
    "    \n",
    "    for token in text.split(' '):\n",
    "        if token in stopwords_list:\n",
    "            pass\n",
    "        \n",
    "        else:\n",
    "            res_text += token\n",
    "            res_text += ' '\n",
    "    \n",
    "    return res_text"
   ]
  },
  {
   "cell_type": "code",
   "execution_count": 29,
   "id": "34872767",
   "metadata": {},
   "outputs": [
    {
     "data": {
      "application/json": {
       "ascii": false,
       "bar_format": null,
       "colour": null,
       "elapsed": 0.029118776321411133,
       "initial": 0,
       "n": 0,
       "ncols": null,
       "nrows": 30,
       "postfix": null,
       "prefix": "",
       "rate": null,
       "total": 5336,
       "unit": "it",
       "unit_divisor": 1000,
       "unit_scale": false
      },
      "application/vnd.jupyter.widget-view+json": {
       "model_id": "758ce32e71784d52924de0ed0bf2f0b6",
       "version_major": 2,
       "version_minor": 0
      },
      "text/plain": [
       "  0%|          | 0/5336 [00:00<?, ?it/s]"
      ]
     },
     "metadata": {},
     "output_type": "display_data"
    }
   ],
   "source": [
    "clean_corp_final = []\n",
    "\n",
    "for title, text in tqdm(clean_corp):\n",
    "    \n",
    "    clean_title = stem_text(title)\n",
    "    clean_text = stem_text(text)\n",
    "    \n",
    "    clean_corp_final.append([clean_title, clean_text])"
   ]
  },
  {
   "cell_type": "markdown",
   "id": "f0374cea",
   "metadata": {},
   "source": [
    "### Example of cleaner`s work"
   ]
  },
  {
   "cell_type": "code",
   "execution_count": 32,
   "id": "0920edcc",
   "metadata": {},
   "outputs": [
    {
     "data": {
      "text/plain": [
       "'голубцов ларион петрович,голубцов ларион петрович ада чуртуң улуг дайынының киржикчизи чылда төрүттүнген дайын шөлүнче чылдың март де көк хаак с медведевка сумузундан кыйгырткан ада иези биле чурттап турган дугаар гвардейжи полктуң дугаар гвардейжи дивизияның адыгжызы рядовой октябрь та чылда мөчээн раддонен деп пруссияның суурунуң чанында хөөржүткен'"
      ]
     },
     "execution_count": 32,
     "metadata": {},
     "output_type": "execute_result"
    }
   ],
   "source": [
    "dirty_corp[0]"
   ]
  },
  {
   "cell_type": "code",
   "execution_count": 34,
   "id": "f91de3ff",
   "metadata": {},
   "outputs": [
    {
     "data": {
      "text/plain": [
       "'голубцов ларион петрович голубцов ларион петрович ада чур улуг дайыны киржикчизи чылда төрүттүн дайын шөлүн чыл март де көк хаак с медведев сумузун кыйгырт ада иези  чуртта тур дугаар гвардейжи полк дугаар гвардейжи дивизия адыгжызы рядовой октябрь та чылда мөчэ раддо де пруссия сууру чанында хөөржүт'"
      ]
     },
     "execution_count": 34,
     "metadata": {},
     "output_type": "execute_result"
    }
   ],
   "source": [
    "' '.join(clean_corp[0])"
   ]
  },
  {
   "cell_type": "code",
   "execution_count": 35,
   "id": "0b09ccec",
   "metadata": {},
   "outputs": [
    {
     "data": {
      "text/plain": [
       "'голубцов ларион петрович голубцов ларион петрович ада чур улуг дайыны киржикчизи чылда төрүттүн дайын шөлүн чыл март де көк хаак с медведев суму кыйгырт ада иези  чуртта тур дугаар гвардейжи полк дугаар гвардейжи дивизия адыгжызы рядовой октябрь та чылда мөчэ раддо де пруссия сууру чанында хөөржүт'"
      ]
     },
     "execution_count": 35,
     "metadata": {},
     "output_type": "execute_result"
    }
   ],
   "source": [
    "' '.join(clean_corp_final[0])"
   ]
  },
  {
   "cell_type": "code",
   "execution_count": 37,
   "id": "dd7ef85f",
   "metadata": {},
   "outputs": [
    {
     "data": {
      "application/json": {
       "ascii": false,
       "bar_format": null,
       "colour": null,
       "elapsed": 0.018135786056518555,
       "initial": 0,
       "n": 0,
       "ncols": null,
       "nrows": 30,
       "postfix": null,
       "prefix": "",
       "rate": null,
       "total": 5336,
       "unit": "it",
       "unit_divisor": 1000,
       "unit_scale": false
      },
      "application/vnd.jupyter.widget-view+json": {
       "model_id": "645f1c2d889f41c68521c01834342321",
       "version_major": 2,
       "version_minor": 0
      },
      "text/plain": [
       "  0%|          | 0/5336 [00:00<?, ?it/s]"
      ]
     },
     "metadata": {},
     "output_type": "display_data"
    }
   ],
   "source": [
    "with open('./clean_texts_final.txt', 'w') as f:\n",
    "    for title, text in tqdm(clean_corp_final):\n",
    "        f.write(','.join([title, text]))\n",
    "        f.write('\\n')"
   ]
  }
 ],
 "metadata": {
  "kernelspec": {
   "display_name": "Python 3 (ipykernel)",
   "language": "python",
   "name": "python3"
  },
  "language_info": {
   "codemirror_mode": {
    "name": "ipython",
    "version": 3
   },
   "file_extension": ".py",
   "mimetype": "text/x-python",
   "name": "python",
   "nbconvert_exporter": "python",
   "pygments_lexer": "ipython3",
   "version": "3.10.4"
  }
 },
 "nbformat": 4,
 "nbformat_minor": 5
}
